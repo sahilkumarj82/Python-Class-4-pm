{
 "cells": [
  {
   "cell_type": "code",
   "execution_count": 1,
   "metadata": {},
   "outputs": [],
   "source": [
    "# Python Collections\n",
    "# List\n",
    "# Tuple\n",
    "# Dictionary\n",
    "# Set"
   ]
  },
  {
   "cell_type": "code",
   "execution_count": 2,
   "metadata": {},
   "outputs": [],
   "source": [
    "# # List\n",
    "# -Indexed\n",
    "# -Ordered\n",
    "# -Duplicate Members\n",
    "# -Mutable"
   ]
  },
  {
   "cell_type": "code",
   "execution_count": 4,
   "metadata": {},
   "outputs": [
    {
     "name": "stdout",
     "output_type": "stream",
     "text": [
      "['Apple', 'Ball']\n",
      "[1, 2, 3, 4, 5]\n",
      "<class 'list'>\n",
      "<class 'list'>\n"
     ]
    }
   ],
   "source": [
    "a  = [\"Apple\",\"Ball\"]\n",
    "b = [1,2,3,4,5]\n",
    "print(a)\n",
    "print(b)\n",
    "\n",
    "print(type(a))\n",
    "print(type(b))"
   ]
  },
  {
   "cell_type": "code",
   "execution_count": 5,
   "metadata": {},
   "outputs": [
    {
     "name": "stdout",
     "output_type": "stream",
     "text": [
      "2\n",
      "5\n"
     ]
    }
   ],
   "source": [
    "print(len(a))\n",
    "print(len(b))"
   ]
  },
  {
   "cell_type": "code",
   "execution_count": 8,
   "metadata": {},
   "outputs": [
    {
     "name": "stdout",
     "output_type": "stream",
     "text": [
      "Ball\n"
     ]
    }
   ],
   "source": [
    "a = [\"Apple\",\"Ball\",\"Cat\",\"Dog\",\"Fish\"]\n",
    "print(a[1])"
   ]
  },
  {
   "cell_type": "code",
   "execution_count": 9,
   "metadata": {},
   "outputs": [
    {
     "name": "stdout",
     "output_type": "stream",
     "text": [
      "['Apple', 'Ball', 'Cat']\n"
     ]
    }
   ],
   "source": [
    "a = [\"Apple\",\"Ball\",\"Cat\",\"Dog\",\"Fish\"]\n",
    "print(a[0:3])"
   ]
  },
  {
   "cell_type": "code",
   "execution_count": 10,
   "metadata": {},
   "outputs": [
    {
     "name": "stdout",
     "output_type": "stream",
     "text": [
      "['Apple', 'Cat', 'Fish']\n"
     ]
    }
   ],
   "source": [
    "a = [\"Apple\",\"Ball\",\"Cat\",\"Dog\",\"Fish\"]\n",
    "print(a[0:6:2])"
   ]
  },
  {
   "cell_type": "code",
   "execution_count": 12,
   "metadata": {},
   "outputs": [
    {
     "name": "stdout",
     "output_type": "stream",
     "text": [
      "['Dog', 'Cat', 'Apple', 'Ball', 'Cat', 'Dog', 'Fish']\n"
     ]
    }
   ],
   "source": [
    "a = [\"Apple\",\"Ball\",\"Cat\",\"Dog\",\"Fish\"]\n",
    "b = [\"Dog\",\"Cat\"]\n",
    "c = b+a\n",
    "print(c)"
   ]
  },
  {
   "cell_type": "code",
   "execution_count": 13,
   "metadata": {},
   "outputs": [
    {
     "name": "stdout",
     "output_type": "stream",
     "text": [
      "Apple\n",
      "Ball\n",
      "Cat\n",
      "Dog\n",
      "Fish\n"
     ]
    }
   ],
   "source": [
    "a = [\"Apple\",\"Ball\",\"Cat\",\"Dog\",\"Fish\"]\n",
    "for i in a:\n",
    "    print(i)"
   ]
  },
  {
   "cell_type": "code",
   "execution_count": 14,
   "metadata": {},
   "outputs": [
    {
     "name": "stdout",
     "output_type": "stream",
     "text": [
      "Apple\n",
      "Ball\n"
     ]
    }
   ],
   "source": [
    "a = [\"Apple\",\"Ball\",\"Cat\",\"Dog\",\"Fish\"]\n",
    "for i in a:\n",
    "    if i == \"Cat\":\n",
    "        break\n",
    "    print(i)"
   ]
  },
  {
   "cell_type": "code",
   "execution_count": 15,
   "metadata": {},
   "outputs": [
    {
     "name": "stdout",
     "output_type": "stream",
     "text": [
      "Apple\n",
      "Ball\n",
      "Dog\n",
      "Fish\n"
     ]
    }
   ],
   "source": [
    "a = [\"Apple\",\"Ball\",\"Cat\",\"Dog\",\"Fish\"]\n",
    "for i in a:\n",
    "    if i == \"Cat\":\n",
    "        continue\n",
    "    print(i)"
   ]
  },
  {
   "cell_type": "code",
   "execution_count": 20,
   "metadata": {},
   "outputs": [
    {
     "name": "stdout",
     "output_type": "stream",
     "text": [
      "Enter n = 2\n",
      "Enter name = Ram\n",
      "Enter name = Shyam\n",
      "['Ram', 'Shyam']\n"
     ]
    }
   ],
   "source": [
    "names = list()\n",
    "n = int(input(\"Enter n = \"))\n",
    "for i in range(n):\n",
    "    name = input(\"Enter name = \")\n",
    "#     names = names+[name]\n",
    "    names.append(name)\n",
    "print(names)"
   ]
  },
  {
   "cell_type": "code",
   "execution_count": 21,
   "metadata": {},
   "outputs": [
    {
     "name": "stdout",
     "output_type": "stream",
     "text": [
      "Enter n = 5\n",
      "Enter name = 234\n",
      "Enter name = 466\n",
      "Enter name = 345\n",
      "Enter name = 5675\n",
      "Enter name = 345\n",
      "[234, 466, 345, 5675, 345]\n"
     ]
    }
   ],
   "source": [
    "names = list()\n",
    "n = int(input(\"Enter n = \"))\n",
    "for i in range(n):\n",
    "    name = int(input(\"Enter name = \"))\n",
    "#     names = names+[name]\n",
    "    names.append(name)\n",
    "print(names)"
   ]
  },
  {
   "cell_type": "code",
   "execution_count": 25,
   "metadata": {},
   "outputs": [
    {
     "name": "stdout",
     "output_type": "stream",
     "text": [
      "Sum of no is =  7065\n",
      "The max value =  5675\n",
      "The max value =  234\n",
      "[234, 345, 345, 466, 5675]\n",
      "[5675, 466, 345, 345, 234]\n"
     ]
    }
   ],
   "source": [
    "print(\"Sum of no is = \",sum(names))\n",
    "print(\"The max value = \",max(names))\n",
    "print(\"The max value = \",min(names))\n",
    "names.sort()\n",
    "print(names)\n",
    "names.reverse()\n",
    "print(names)"
   ]
  },
  {
   "cell_type": "code",
   "execution_count": 26,
   "metadata": {},
   "outputs": [
    {
     "name": "stdout",
     "output_type": "stream",
     "text": [
      "['Akash', 'Hari', 'Nabin', 'Sita', 'nita']\n"
     ]
    }
   ],
   "source": [
    "a = [\"Hari\",\"Sita\",\"Akash\",\"Nabin\",\"nita\"]\n",
    "a.sort()\n",
    "print(a)"
   ]
  },
  {
   "cell_type": "code",
   "execution_count": 27,
   "metadata": {},
   "outputs": [
    {
     "data": {
      "text/plain": [
       "['Hari', 'Binam', 'Sita', 'Akash', 'Nabin', 'nita']"
      ]
     },
     "execution_count": 27,
     "metadata": {},
     "output_type": "execute_result"
    }
   ],
   "source": [
    "# insert()\n",
    "a = [\"Hari\",\"Sita\",\"Akash\",\"Nabin\",\"nita\"]\n",
    "a.insert(1,\"Binam\")\n",
    "a"
   ]
  },
  {
   "cell_type": "code",
   "execution_count": 28,
   "metadata": {},
   "outputs": [
    {
     "name": "stdout",
     "output_type": "stream",
     "text": [
      "['Hari', 'Sita', 'Akash', 'Nabin', 'nita', 1, 2, 3, 4]\n"
     ]
    }
   ],
   "source": [
    "# extend()\n",
    "a = [\"Hari\",\"Sita\",\"Akash\",\"Nabin\",\"nita\"]\n",
    "b = [1,2,3,4]\n",
    "a.extend(b)\n",
    "print(a)"
   ]
  },
  {
   "cell_type": "code",
   "execution_count": 32,
   "metadata": {},
   "outputs": [
    {
     "data": {
      "text/plain": [
       "['Hari', 1, 2, 3, 4, 'Sita', 'Akash', 'Nabin', 'nita']"
      ]
     },
     "execution_count": 32,
     "metadata": {},
     "output_type": "execute_result"
    }
   ],
   "source": [
    "a = [\"Hari\",\"Sita\",\"Akash\",\"Nabin\",\"nita\"]\n",
    "b = [1,2,3,4]\n",
    "x = [a[0]]\n",
    "c = x+b+a[1:]\n",
    "c"
   ]
  },
  {
   "cell_type": "code",
   "execution_count": 34,
   "metadata": {},
   "outputs": [
    {
     "data": {
      "text/plain": [
       "['Harry', 'Sita', 'Akash', 'Nabin', 'nita']"
      ]
     },
     "execution_count": 34,
     "metadata": {},
     "output_type": "execute_result"
    }
   ],
   "source": [
    "a = [\"Hari\",\"Sita\",\"Akash\",\"Nabin\",\"nita\"]\n",
    "a[0] = \"Harry\"\n",
    "a"
   ]
  },
  {
   "cell_type": "code",
   "execution_count": 35,
   "metadata": {},
   "outputs": [
    {
     "data": {
      "text/plain": [
       "['Harry', 'Sam', 'Akash', 'Nabin', 'nita']"
      ]
     },
     "execution_count": 35,
     "metadata": {},
     "output_type": "execute_result"
    }
   ],
   "source": [
    "a = [\"Hari\",\"Sita\",\"Akash\",\"Nabin\",\"nita\"]\n",
    "a[0:2] = [\"Harry\",\"Sam\"]\n",
    "a"
   ]
  },
  {
   "cell_type": "code",
   "execution_count": 36,
   "metadata": {},
   "outputs": [
    {
     "name": "stdout",
     "output_type": "stream",
     "text": [
      "['Sita', 'Akash', 'Nabin', 'nita']\n"
     ]
    }
   ],
   "source": [
    "#del remove() pop()\n",
    "a = [\"Hari\",\"Sita\",\"Akash\",\"Nabin\",\"nita\"]\n",
    "del a[0]\n",
    "print(a)"
   ]
  },
  {
   "cell_type": "code",
   "execution_count": 38,
   "metadata": {},
   "outputs": [
    {
     "name": "stdout",
     "output_type": "stream",
     "text": [
      "['Nabin', 'nita']\n"
     ]
    }
   ],
   "source": [
    "a = [\"Hari\",\"Sita\",\"Akash\",\"Nabin\",\"nita\"]\n",
    "del a[0:3]\n",
    "print(a)"
   ]
  },
  {
   "cell_type": "code",
   "execution_count": 39,
   "metadata": {},
   "outputs": [
    {
     "name": "stdout",
     "output_type": "stream",
     "text": [
      "['Sita', 'Akash', 'Nabin', 'nita']\n"
     ]
    }
   ],
   "source": [
    "a = [\"Hari\",\"Sita\",\"Akash\",\"Nabin\",\"nita\"]\n",
    "a.remove(\"Hari\")\n",
    "print(a)"
   ]
  },
  {
   "cell_type": "code",
   "execution_count": 42,
   "metadata": {},
   "outputs": [
    {
     "name": "stdout",
     "output_type": "stream",
     "text": [
      "['Sita', 'Akash', 'Nabin', 'nita']\n"
     ]
    }
   ],
   "source": [
    "a = [\"Hari\",\"Sita\",\"Akash\",\"Nabin\",\"nita\",\"Hari\"]\n",
    "for i in a:\n",
    "    if i == \"Hari\":\n",
    "        a.remove(\"Hari\")\n",
    "    \n",
    "print(a)"
   ]
  },
  {
   "cell_type": "code",
   "execution_count": 44,
   "metadata": {},
   "outputs": [
    {
     "name": "stdout",
     "output_type": "stream",
     "text": [
      "0\n",
      "5\n"
     ]
    }
   ],
   "source": [
    "a = [\"Hari\",\"Sita\",\"Akash\",\"Nabin\",\"nita\",\"Hari\"]\n",
    "for i in range(len(a)):\n",
    "    if a[i] == \"Hari\":\n",
    "        print(i)"
   ]
  },
  {
   "cell_type": "code",
   "execution_count": 46,
   "metadata": {},
   "outputs": [
    {
     "name": "stdout",
     "output_type": "stream",
     "text": [
      "['Hari', 'Sita', 'Akash', 'nita', 'Hari']\n",
      "Nabin\n"
     ]
    }
   ],
   "source": [
    "# pop()\n",
    "a = [\"Hari\",\"Sita\",\"Akash\",\"Nabin\",\"nita\",\"Hari\"]\n",
    "b = a.pop(3)\n",
    "print(a)\n",
    "print(b)"
   ]
  },
  {
   "cell_type": "code",
   "execution_count": 1,
   "metadata": {},
   "outputs": [
    {
     "name": "stdout",
     "output_type": "stream",
     "text": [
      "<class 'list'>\n"
     ]
    }
   ],
   "source": [
    "# list inside list\n",
    "a = [[1,2,3],\n",
    "     [4,5,6],\n",
    "     [7,8,9]]\n",
    "print(type(a))"
   ]
  },
  {
   "cell_type": "code",
   "execution_count": 4,
   "metadata": {},
   "outputs": [
    {
     "name": "stdout",
     "output_type": "stream",
     "text": [
      "['Ram', 34, 'Kathmandu']\n",
      "[['Ram', 34, 'Kathmandu'], ['Shyam', 34, 'Bhaktapur']]\n"
     ]
    }
   ],
   "source": [
    "a = [[\"Ram\",34,\"Kathmandu\"],\n",
    "     [\"Shyam\",34,\"Bhaktapur\"],\n",
    "     [\"Siva\",23,\"Patan\"]]\n",
    "print(a[0])\n",
    "print(a[0:2])"
   ]
  },
  {
   "cell_type": "code",
   "execution_count": 6,
   "metadata": {},
   "outputs": [
    {
     "name": "stdout",
     "output_type": "stream",
     "text": [
      "[['Ram', 34, 'Kathmandu'], ['Shyam', 34, 'Bhaktapur'], ['Nabin', 56, 'Bara']]\n"
     ]
    }
   ],
   "source": [
    "a = [['Ram', 34, 'Kathmandu'], ['Shyam', 34, 'Bhaktapur']]\n",
    "b = [[\"Nabin\",56,\"Bara\"]]\n",
    "c = a+b\n",
    "print(c)"
   ]
  },
  {
   "cell_type": "code",
   "execution_count": 7,
   "metadata": {},
   "outputs": [
    {
     "data": {
      "text/plain": [
       "[['Ram', 34, 'Kathmandu'], ['Shyam', 34, 'Bhaktapur'], ['Nabin', 56, 'Bara']]"
      ]
     },
     "execution_count": 7,
     "metadata": {},
     "output_type": "execute_result"
    }
   ],
   "source": [
    "a = [['Ram', 34, 'Kathmandu'], ['Shyam', 34, 'Bhaktapur']]\n",
    "b = [\"Nabin\",56,\"Bara\"]\n",
    "a.append(b)\n",
    "a"
   ]
  },
  {
   "cell_type": "code",
   "execution_count": 9,
   "metadata": {},
   "outputs": [
    {
     "name": "stdout",
     "output_type": "stream",
     "text": [
      "Enter n = 2\n",
      "Enter name = Ram\n",
      "Enter age = 67\n",
      "Enter add = Kathmandu\n",
      "Enter name = Shyam\n",
      "Enter age = 34\n",
      "Enter add = Bhaktapur\n",
      "[['Ram', 67, 'Kathmandu'], ['Shyam', 34, 'Bhaktapur']]\n"
     ]
    }
   ],
   "source": [
    "data = []\n",
    "n = int(input(\"Enter n = \"))\n",
    "for i in range(n):\n",
    "    name = input(\"Enter name = \")\n",
    "    age = int(input(\"Enter age = \"))\n",
    "    add = input(\"Enter add = \")\n",
    "    info = [name,age,add]\n",
    "    data.append(info)\n",
    "print(data)"
   ]
  },
  {
   "cell_type": "code",
   "execution_count": 11,
   "metadata": {},
   "outputs": [
    {
     "name": "stdout",
     "output_type": "stream",
     "text": [
      "Enter name = Ram\n",
      "['Ram', 67, 'Kathmandu']\n"
     ]
    }
   ],
   "source": [
    "a = [['Ram', 67, 'Kathmandu'], ['Shyam', 34, 'Bhaktapur']]\n",
    "name = input(\"Enter name = \")\n",
    "for i in a:\n",
    "    if name in i:\n",
    "        print(i)"
   ]
  },
  {
   "cell_type": "code",
   "execution_count": 13,
   "metadata": {},
   "outputs": [
    {
     "name": "stdout",
     "output_type": "stream",
     "text": [
      "Enter name = Shyam\n",
      "1\n"
     ]
    }
   ],
   "source": [
    "a = [['Ram', 67, 'Kathmandu'], ['Shyam', 34, 'Bhaktapur']]\n",
    "name = input(\"Enter name = \")\n",
    "\n",
    "for i in range(len(a)):\n",
    "    if name in a[i]:\n",
    "        print(i)"
   ]
  },
  {
   "cell_type": "code",
   "execution_count": 16,
   "metadata": {},
   "outputs": [
    {
     "data": {
      "text/plain": [
       "[['Ram Prasad', 67, 'Kathmandu'], ['Shyam', 34, 'Bhaktapur']]"
      ]
     },
     "execution_count": 16,
     "metadata": {},
     "output_type": "execute_result"
    }
   ],
   "source": [
    "a = [['Ram', 67, 'Kathmandu'], \n",
    "     ['Shyam', 34, 'Bhaktapur']]\n",
    "a[0][0] = \"Ram Prasad\"\n",
    "a"
   ]
  },
  {
   "cell_type": "code",
   "execution_count": 17,
   "metadata": {},
   "outputs": [
    {
     "data": {
      "text/plain": [
       "[['Rama', 74, 'Kathmandu'], ['Shyam', 34, 'Bhaktapur']]"
      ]
     },
     "execution_count": 17,
     "metadata": {},
     "output_type": "execute_result"
    }
   ],
   "source": [
    "a = [['Ram', 67, 'Kathmandu'], \n",
    "     ['Shyam', 34, 'Bhaktapur']]\n",
    "a[0] = ['Rama', 74, 'Kathmandu']\n",
    "a"
   ]
  },
  {
   "cell_type": "code",
   "execution_count": 20,
   "metadata": {},
   "outputs": [
    {
     "name": "stdout",
     "output_type": "stream",
     "text": [
      "[[67, 'Kathmandu'], ['Shyam', 34, 'Bhaktapur']]\n"
     ]
    }
   ],
   "source": [
    "a = [['Ram', 67, 'Kathmandu'], \n",
    "     ['Shyam', 34, 'Bhaktapur']]\n",
    "del a[0][0]\n",
    "print(a)"
   ]
  },
  {
   "cell_type": "code",
   "execution_count": 21,
   "metadata": {},
   "outputs": [
    {
     "name": "stdout",
     "output_type": "stream",
     "text": [
      "[['Ram', 67, 'Kathmandu']]\n"
     ]
    }
   ],
   "source": [
    "a = [['Ram', 67, 'Kathmandu'], \n",
    "     ['Shyam', 34, 'Bhaktapur']]\n",
    "a.remove(a[1])\n",
    "print(a)"
   ]
  },
  {
   "cell_type": "code",
   "execution_count": 24,
   "metadata": {},
   "outputs": [
    {
     "name": "stdout",
     "output_type": "stream",
     "text": [
      "Enter n = 2\n",
      "Enter product name = Momo\n",
      "Enter price = 100\n",
      "Enter quantity = 3\n",
      "Enter product name = Coke\n",
      "Enter price = 150\n",
      "Enter quantity = 4\n",
      "Product Price Quantity Total\n",
      "\n",
      "Momo 100 3 300\n",
      "Coke 150 4 600\n",
      " \n",
      "\n"
     ]
    }
   ],
   "source": [
    "s = \"\"\n",
    "n = int(input(\"Enter n = \"))\n",
    "for i in range(n):\n",
    "    name = input(\"Enter product name = \")\n",
    "    price = int(input(\"Enter price = \"))\n",
    "    quantity = int(input(\"Enter quantity = \"))\n",
    "    total = price*quantity\n",
    "    info = f\"{name} {price} {quantity} {total}\\n\"\n",
    "    s = s + info\n",
    "print(\"Product Price Quantity Total\\n\")    \n",
    "print(s,\"\\n\")"
   ]
  },
  {
   "cell_type": "code",
   "execution_count": 31,
   "metadata": {},
   "outputs": [
    {
     "data": {
      "text/plain": [
       "[['Momo', '100', '3', '300'], ['Coke', '150', '4', '600']]"
      ]
     },
     "execution_count": 31,
     "metadata": {},
     "output_type": "execute_result"
    }
   ],
   "source": [
    "bill = []\n",
    "data = s.split('\\n')[:-1]\n",
    "for i in data:\n",
    "    bill.append(i.split())\n",
    "    \n",
    "bill"
   ]
  },
  {
   "cell_type": "code",
   "execution_count": null,
   "metadata": {},
   "outputs": [],
   "source": [
    "s = \"\"\n",
    "n = int(input(\"Enter n = \"))\n",
    "for i in range(n):\n",
    "    name = input(\"Enter product name = \")\n",
    "    price = int(input(\"Enter price = \"))\n",
    "    quantity = int(input(\"Enter quantity = \"))\n",
    "    total = price*quantity\n",
    "    info = f\"{name} {price} {quantity} {total}\\n\"\n",
    "    s = s + info\n",
    "print(\"Product Price Quantity Total\\n\")    \n",
    "print(s,\"\\n\")"
   ]
  },
  {
   "cell_type": "code",
   "execution_count": null,
   "metadata": {},
   "outputs": [],
   "source": [
    "# WAP to develop result management system"
   ]
  }
 ],
 "metadata": {
  "kernelspec": {
   "display_name": "Python 3 (ipykernel)",
   "language": "python",
   "name": "python3"
  },
  "language_info": {
   "codemirror_mode": {
    "name": "ipython",
    "version": 3
   },
   "file_extension": ".py",
   "mimetype": "text/x-python",
   "name": "python",
   "nbconvert_exporter": "python",
   "pygments_lexer": "ipython3",
   "version": "3.7.1"
  }
 },
 "nbformat": 4,
 "nbformat_minor": 2
}
